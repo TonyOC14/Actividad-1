{
  "nbformat": 4,
  "nbformat_minor": 0,
  "metadata": {
    "colab": {
      "provenance": [],
      "authorship_tag": "ABX9TyNFucJw+zDQb5Zut+eLUA2g",
      "include_colab_link": true
    },
    "kernelspec": {
      "name": "python3",
      "display_name": "Python 3"
    },
    "language_info": {
      "name": "python"
    }
  },
  "cells": [
    {
      "cell_type": "markdown",
      "metadata": {
        "id": "view-in-github",
        "colab_type": "text"
      },
      "source": [
        "<a href=\"https://colab.research.google.com/github/TonyOC14/Actividad-1/blob/main/TOC_A01_432.ipynb\" target=\"_parent\"><img src=\"https://colab.research.google.com/assets/colab-badge.svg\" alt=\"Open In Colab\"/></a>"
      ]
    },
    {
      "cell_type": "markdown",
      "source": [
        "1.- Programa en Python Mostrar un mensaje que diga “HOLA MUNDO” en un solo renglón usando 2 print"
      ],
      "metadata": {
        "id": "IkPQKGWniwWm"
      }
    },
    {
      "cell_type": "code",
      "source": [
        "print (\"Hola\", end = \" \")\n",
        "print (\"Mundo\")"
      ],
      "metadata": {
        "id": "voKRxR56ixT2",
        "colab": {
          "base_uri": "https://localhost:8080/"
        },
        "outputId": "9feb4a29-05f8-4e5e-ef7a-344ab8f95ea4"
      },
      "execution_count": null,
      "outputs": [
        {
          "output_type": "stream",
          "name": "stdout",
          "text": [
            "Hola Mundo\n"
          ]
        }
      ]
    },
    {
      "cell_type": "markdown",
      "source": [
        "2.- Programa en Python que lea 2 números, realizar la suma y desplegar la suma de los 2 números\n"
      ],
      "metadata": {
        "id": "3sKOH9rQ4ktC"
      }
    },
    {
      "cell_type": "code",
      "source": [
        "num1 = float(input(\"Ingrese un numero \"))\n",
        "num2 = float(input(\"Ingrese otro numero \"))\n",
        "suma = num1 + num2\n",
        "print (\"La suma de los 2 numeros dados es: \",suma)"
      ],
      "metadata": {
        "colab": {
          "base_uri": "https://localhost:8080/"
        },
        "id": "R3jUmHKx4xq-",
        "outputId": "5adabb3e-1cc8-4f81-d5a9-3079e6b56a06"
      },
      "execution_count": null,
      "outputs": [
        {
          "output_type": "stream",
          "name": "stdout",
          "text": [
            "Ingrese un numero 5\n",
            "Ingrese otro numero 3\n",
            "La suma de los 2 numeros dados es:  8.0\n"
          ]
        }
      ]
    },
    {
      "cell_type": "markdown",
      "source": [
        "3.- Programa en Python que lea 2 números y realice las 4 operaciones básicas"
      ],
      "metadata": {
        "id": "1uDGDxTW6P28"
      }
    },
    {
      "cell_type": "code",
      "source": [
        "num1 = float(input(\"Ingrese un numero \"))\n",
        "num2 = float(input(\"Ingrese otro numero \"))\n",
        "suma = num1 + num2\n",
        "resta = num1 - num2\n",
        "multi = num1 * num2\n",
        "div= num1 / num2\n",
        "print (\"El resultado de la suma es: \",suma)\n",
        "print (\"El resultado de la resta es: \",resta)\n",
        "print (\"El resultado de la multiplicacion es: \",multi)\n",
        "print (\"El resultado de la division es: \",div)"
      ],
      "metadata": {
        "colab": {
          "base_uri": "https://localhost:8080/"
        },
        "id": "bZibXDMo6SWg",
        "outputId": "747ec5b2-e080-4da4-bf41-07cab65f0707"
      },
      "execution_count": null,
      "outputs": [
        {
          "output_type": "stream",
          "name": "stdout",
          "text": [
            "Ingrese un numero 5\n",
            "Ingrese otro numero 4\n",
            "El resultado de la suma es:  9.0\n",
            "El resultado de la resta es:  1.0\n",
            "El resultado de la multiplicacion es:  20.0\n",
            "El resultado de la division es:  1.25\n"
          ]
        }
      ]
    },
    {
      "cell_type": "markdown",
      "source": [
        "4.- Programa en Python Que sirva para calcular el área de un triángulo"
      ],
      "metadata": {
        "id": "zykmurMO7ERu"
      }
    },
    {
      "cell_type": "code",
      "source": [
        "base = float(input(\"Cual es la medida de la base del triangulo? \"))\n",
        "altura = float(input(\"Cual es la medida de la altura del triangulo? \"))\n",
        "area = (base * altura) /  2\n",
        "print (\"El area del triangulo es de: \",area)"
      ],
      "metadata": {
        "colab": {
          "base_uri": "https://localhost:8080/"
        },
        "id": "X-8S1nRO7IGc",
        "outputId": "283da52e-d25c-4129-b31f-4aa756131eb4"
      },
      "execution_count": null,
      "outputs": [
        {
          "output_type": "stream",
          "name": "stdout",
          "text": [
            "Cual es la medida de la base del triangulo? 5\n",
            "Cual es la medida de la altura del triangulo? 4\n",
            "El area del triangulo es de:  10.0\n"
          ]
        }
      ]
    },
    {
      "cell_type": "markdown",
      "source": [
        "5.- Programa en Python que lea una medida en centímetros y desplegar la misma medida pero convertida en pies y pulgadas"
      ],
      "metadata": {
        "id": "lA9eDBNpAGjI"
      }
    },
    {
      "cell_type": "code",
      "source": [
        "medida = float(input(\"Dame una medida en centimetros \"))\n",
        "pies = medida * 0.032808399\n",
        "inch = medida * 0.3937007874\n",
        "print (\"La medida convertida a pies es de: \",pies)\n",
        "print (\"La medida convertida a pulgadas es de: \",inch)"
      ],
      "metadata": {
        "colab": {
          "base_uri": "https://localhost:8080/"
        },
        "id": "Hl55wdd2AIRA",
        "outputId": "ba98f36f-f8b6-404c-d782-9cb376cd5d02"
      },
      "execution_count": null,
      "outputs": [
        {
          "output_type": "stream",
          "name": "stdout",
          "text": [
            "Dame una medida en centimetros 30\n",
            "La medida convertida a pies es de:  0.9842519700000001\n",
            "La medida convertida a pulgadas es de:  11.811023621999999\n"
          ]
        }
      ]
    },
    {
      "cell_type": "markdown",
      "source": [
        "6.- Programa en Python que lea una temperatura en grados centígrados y desplegarla en Grados Fahrenheit y grados kelvin"
      ],
      "metadata": {
        "id": "ggLx8g7zBI5p"
      }
    },
    {
      "cell_type": "code",
      "source": [
        "cent = float(input(\"Ingrese una temperatura en grados centigrados \"))\n",
        "kelvin = cent + 273.15\n",
        "fahren = (cent * 1.8) +32\n",
        "print (\"La conversion a grados Fahrenheit es de: \",fahren)\n",
        "print (\"La conversion de grados Kelvin es de: \",kelvin)"
      ],
      "metadata": {
        "colab": {
          "base_uri": "https://localhost:8080/"
        },
        "id": "hF5584B8BLpq",
        "outputId": "fa3c8ea2-8a47-4b3d-e881-19f1e71e30d4"
      },
      "execution_count": null,
      "outputs": [
        {
          "output_type": "stream",
          "name": "stdout",
          "text": [
            "Ingrese una temperatura en grados centigrados 5\n",
            "La conversion a grados Fahrenheit es de:  41.0\n",
            "La conversion de grados Kelvin es de:  278.15\n"
          ]
        }
      ]
    },
    {
      "cell_type": "markdown",
      "source": [
        "7.- Programa en Python que lea 4 calificaciones de un alumno, desplegar el promedio del alumno"
      ],
      "metadata": {
        "id": "XHZDPseXELgB"
      }
    },
    {
      "cell_type": "code",
      "source": [
        "cal1 = float(input(\"Ingrese la primera calificacion \"))\n",
        "cal2 = float(input(\"Ingrese la segunda calificacion \"))\n",
        "cal3 = float(input(\"Ingrese la tercer calificacion \"))\n",
        "cal4 = float(input(\"Ingrese la cuarta calificacion \"))\n",
        "prom = (cal1 + cal2 + cal3 + cal4 ) / 4\n",
        "print (\"El promedio del alumno es de: \",prom)\n"
      ],
      "metadata": {
        "colab": {
          "base_uri": "https://localhost:8080/"
        },
        "id": "1_fyL8IQENv8",
        "outputId": "a2d19a9e-1849-467c-bcd2-bd479ae4f4f8"
      },
      "execution_count": null,
      "outputs": [
        {
          "output_type": "stream",
          "name": "stdout",
          "text": [
            "Ingrese la primera calificacion 6\n",
            "Ingrese la segunda calificacion 7\n",
            "Ingrese la tercer calificacion 8\n",
            "Ingrese la cuarta calificacion 9\n",
            "El promedio del alumno es de:  7.5\n"
          ]
        }
      ]
    }
  ]
}